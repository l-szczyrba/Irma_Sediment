{
 "cells": [
  {
   "cell_type": "code",
   "execution_count": 8,
   "metadata": {},
   "outputs": [],
   "source": [
    "import os\n",
    "import pandas as pd\n",
    "%matplotlib inline\n",
    "import numpy as np\n",
    "import matplotlib.pyplot as plt\n",
    "import hashlib\n",
    "import sklearn as sk\n",
    "import os\n",
    "import time\n",
    "import datetime\n",
    "import math"
   ]
  },
  {
   "cell_type": "code",
   "execution_count": 9,
   "metadata": {},
   "outputs": [
    {
     "name": "stdout",
     "output_type": "stream",
     "text": [
      "<class 'pandas.core.frame.DataFrame'>\n",
      "RangeIndex: 130 entries, 0 to 129\n",
      "Data columns (total 14 columns):\n",
      "Region                      127 non-null object\n",
      "Site                        127 non-null object\n",
      "Station                     127 non-null object\n",
      "Date 1                      118 non-null object\n",
      "Date 2                      107 non-null object\n",
      "Thickness at Date 1 (cm)    117 non-null object\n",
      "Thickness at Date 2 (cm)    92 non-null float64\n",
      "Thickness at Date 3 (cm)    120 non-null object\n",
      "Lat                         101 non-null float64\n",
      "Lon                         101 non-null float64\n",
      "water_lat                   101 non-null float64\n",
      "water_lon                   101 non-null float64\n",
      "Notes                       14 non-null object\n",
      "Unnamed: 13                 1 non-null object\n",
      "dtypes: float64(5), object(9)\n",
      "memory usage: 14.3+ KB\n"
     ]
    }
   ],
   "source": [
    "path = '/Users/lszczyrba/Project_3.6.3/HelloWorld/Irma_Sediment'\n",
    "file = os.path.join(path, 'IrmaMudThicknessDistances.csv')\n",
    "mud = pd.read_csv(file)\n",
    "# mud.head()\n",
    "# mud.info()\n",
    "# mud.describe()\n",
    "mud.info()"
   ]
  },
  {
   "cell_type": "code",
   "execution_count": 10,
   "metadata": {},
   "outputs": [],
   "source": [
    "def haversine(lon1, lat1, lon2, lat2):\n",
    "    lon1, lat1, lon2, lat2 = map(math.radians, [lon1, lat1, lon2, lat2])\n",
    "    dlon = lon2 - lon1\n",
    "    dlat = lat2 - lat1\n",
    "    a = math.sin(dlat/2)**2 + math.cos(lat1) * math.cos(lat2) * math.sin(dlon/2)**2\n",
    "    c = 2 * math.asin(math.sqrt(a))\n",
    "    km = 6367 * c\n",
    "    return (km * 1000)"
   ]
  },
  {
   "cell_type": "code",
   "execution_count": 11,
   "metadata": {},
   "outputs": [],
   "source": [
    "site_lat = mud['Lat']\n",
    "site_lon = mud['Lon']\n",
    "ocean_lat = mud['water_lat']\n",
    "ocean_lon = mud['water_lon']"
   ]
  },
  {
   "cell_type": "code",
   "execution_count": 15,
   "metadata": {},
   "outputs": [],
   "source": [
    "distance = []\n",
    "for i in range(len(site_lat)):\n",
    "    dist = haversine(site_lon[i], site_lat[i], ocean_lon[i], ocean_lat[i])\n",
    "    distance.append(dist)\n",
    "dist = pd.DataFrame({'Distance': distance})\n",
    "mud = mud.join(dist) \n"
   ]
  },
  {
   "cell_type": "code",
   "execution_count": 16,
   "metadata": {},
   "outputs": [
    {
     "name": "stdout",
     "output_type": "stream",
     "text": [
      "<class 'pandas.core.frame.DataFrame'>\n",
      "RangeIndex: 130 entries, 0 to 129\n",
      "Data columns (total 15 columns):\n",
      "Region                      127 non-null object\n",
      "Site                        127 non-null object\n",
      "Station                     127 non-null object\n",
      "Date 1                      118 non-null object\n",
      "Date 2                      107 non-null object\n",
      "Thickness at Date 1 (cm)    117 non-null object\n",
      "Thickness at Date 2 (cm)    92 non-null float64\n",
      "Thickness at Date 3 (cm)    120 non-null object\n",
      "Lat                         101 non-null float64\n",
      "Lon                         101 non-null float64\n",
      "water_lat                   101 non-null float64\n",
      "water_lon                   101 non-null float64\n",
      "Notes                       14 non-null object\n",
      "Unnamed: 13                 1 non-null object\n",
      "Distance                    101 non-null float64\n",
      "dtypes: float64(6), object(9)\n",
      "memory usage: 15.3+ KB\n"
     ]
    },
    {
     "data": {
      "text/plain": [
       "'BW2'"
      ]
     },
     "execution_count": 16,
     "metadata": {},
     "output_type": "execute_result"
    }
   ],
   "source": [
    "mud.info()\n",
    "mud['Site'][12]\n"
   ]
  },
  {
   "cell_type": "code",
   "execution_count": 20,
   "metadata": {},
   "outputs": [],
   "source": [
    "mud.to_excel('/Users/lszczyrba/Project_3.6.3/HelloWorld/Irma_Sediment/Distances.xlsx')"
   ]
  },
  {
   "cell_type": "code",
   "execution_count": null,
   "metadata": {},
   "outputs": [],
   "source": []
  }
 ],
 "metadata": {
  "kernelspec": {
   "display_name": "Python 3",
   "language": "python",
   "name": "python3"
  },
  "language_info": {
   "codemirror_mode": {
    "name": "ipython",
    "version": 3
   },
   "file_extension": ".py",
   "mimetype": "text/x-python",
   "name": "python",
   "nbconvert_exporter": "python",
   "pygments_lexer": "ipython3",
   "version": "3.6.5"
  }
 },
 "nbformat": 4,
 "nbformat_minor": 2
}
