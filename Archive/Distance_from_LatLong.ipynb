{
 "cells": [
  {
   "cell_type": "code",
   "execution_count": 1,
   "metadata": {},
   "outputs": [
    {
     "name": "stdout",
     "output_type": "stream",
     "text": [
      "<class 'pandas.core.frame.DataFrame'>\n",
      "RangeIndex: 130 entries, 0 to 129\n",
      "Data columns (total 14 columns):\n",
      "Region                      127 non-null object\n",
      "Site                        127 non-null object\n",
      "Station                     127 non-null object\n",
      "Date 1                      118 non-null object\n",
      "Date 2                      107 non-null object\n",
      "Thickness at Date 1 (cm)    117 non-null object\n",
      "Thickness at Date 2 (cm)    92 non-null float64\n",
      "Thickness at Date 3 (cm)    120 non-null object\n",
      "Lat                         101 non-null float64\n",
      "Lon                         101 non-null float64\n",
      "water_lat                   101 non-null float64\n",
      "water_lon                   101 non-null float64\n",
      "Notes                       14 non-null object\n",
      "Unnamed: 13                 1 non-null object\n",
      "dtypes: float64(5), object(9)\n",
      "memory usage: 14.3+ KB\n"
     ]
    },
    {
     "data": {
      "text/html": [
       "<div>\n",
       "<style scoped>\n",
       "    .dataframe tbody tr th:only-of-type {\n",
       "        vertical-align: middle;\n",
       "    }\n",
       "\n",
       "    .dataframe tbody tr th {\n",
       "        vertical-align: top;\n",
       "    }\n",
       "\n",
       "    .dataframe thead th {\n",
       "        text-align: right;\n",
       "    }\n",
       "</style>\n",
       "<table border=\"1\" class=\"dataframe\">\n",
       "  <thead>\n",
       "    <tr style=\"text-align: right;\">\n",
       "      <th></th>\n",
       "      <th>Region</th>\n",
       "      <th>Site</th>\n",
       "      <th>Station</th>\n",
       "      <th>Date 1</th>\n",
       "      <th>Date 2</th>\n",
       "      <th>Thickness at Date 1 (cm)</th>\n",
       "      <th>Thickness at Date 2 (cm)</th>\n",
       "      <th>Thickness at Date 3 (cm)</th>\n",
       "      <th>Lat</th>\n",
       "      <th>Lon</th>\n",
       "      <th>water_lat</th>\n",
       "      <th>water_lon</th>\n",
       "      <th>Notes</th>\n",
       "      <th>Unnamed: 13</th>\n",
       "    </tr>\n",
       "  </thead>\n",
       "  <tbody>\n",
       "    <tr>\n",
       "      <th>0</th>\n",
       "      <td>TTI</td>\n",
       "      <td>CCB</td>\n",
       "      <td>CC1 S1</td>\n",
       "      <td>12/20/2017</td>\n",
       "      <td>1/28/2018</td>\n",
       "      <td>0</td>\n",
       "      <td>0.0</td>\n",
       "      <td>0</td>\n",
       "      <td>26.02238</td>\n",
       "      <td>-81.73427</td>\n",
       "      <td>26.021769</td>\n",
       "      <td>-81.734467</td>\n",
       "      <td>NaN</td>\n",
       "      <td>NaN</td>\n",
       "    </tr>\n",
       "    <tr>\n",
       "      <th>1</th>\n",
       "      <td>TTI</td>\n",
       "      <td>CCB</td>\n",
       "      <td>CC1 S2</td>\n",
       "      <td>12/20/2017</td>\n",
       "      <td>NaN</td>\n",
       "      <td>0</td>\n",
       "      <td>NaN</td>\n",
       "      <td>0</td>\n",
       "      <td>26.02240</td>\n",
       "      <td>-81.73423</td>\n",
       "      <td>26.021769</td>\n",
       "      <td>-81.734467</td>\n",
       "      <td>NaN</td>\n",
       "      <td>NaN</td>\n",
       "    </tr>\n",
       "    <tr>\n",
       "      <th>2</th>\n",
       "      <td>TTI</td>\n",
       "      <td>CCB</td>\n",
       "      <td>CC1 S3</td>\n",
       "      <td>12/20/2017</td>\n",
       "      <td>NaN</td>\n",
       "      <td>0</td>\n",
       "      <td>NaN</td>\n",
       "      <td>0</td>\n",
       "      <td>26.02230</td>\n",
       "      <td>-81.73427</td>\n",
       "      <td>26.021769</td>\n",
       "      <td>-81.734467</td>\n",
       "      <td>NaN</td>\n",
       "      <td>NaN</td>\n",
       "    </tr>\n",
       "    <tr>\n",
       "      <th>3</th>\n",
       "      <td>TTI</td>\n",
       "      <td>CCB</td>\n",
       "      <td>CC1 S4</td>\n",
       "      <td>12/20/2017</td>\n",
       "      <td>NaN</td>\n",
       "      <td>40</td>\n",
       "      <td>NaN</td>\n",
       "      <td>NaN</td>\n",
       "      <td>26.02232</td>\n",
       "      <td>-81.73418</td>\n",
       "      <td>26.021769</td>\n",
       "      <td>-81.734467</td>\n",
       "      <td>NaN</td>\n",
       "      <td>NaN</td>\n",
       "    </tr>\n",
       "    <tr>\n",
       "      <th>4</th>\n",
       "      <td>TTI</td>\n",
       "      <td>CCB</td>\n",
       "      <td>CC2 S1</td>\n",
       "      <td>12/20/2017</td>\n",
       "      <td>1/28/2018</td>\n",
       "      <td>0</td>\n",
       "      <td>0.0</td>\n",
       "      <td>0</td>\n",
       "      <td>26.02202</td>\n",
       "      <td>-81.73415</td>\n",
       "      <td>26.021769</td>\n",
       "      <td>-81.734467</td>\n",
       "      <td>NaN</td>\n",
       "      <td>NaN</td>\n",
       "    </tr>\n",
       "  </tbody>\n",
       "</table>\n",
       "</div>"
      ],
      "text/plain": [
       "  Region Site Station      Date 1     Date 2 Thickness at Date 1 (cm)  \\\n",
       "0    TTI  CCB  CC1 S1  12/20/2017  1/28/2018                        0   \n",
       "1    TTI  CCB  CC1 S2  12/20/2017        NaN                        0   \n",
       "2    TTI  CCB  CC1 S3  12/20/2017        NaN                        0   \n",
       "3    TTI  CCB  CC1 S4  12/20/2017        NaN                       40   \n",
       "4    TTI  CCB  CC2 S1  12/20/2017  1/28/2018                        0   \n",
       "\n",
       "   Thickness at Date 2 (cm) Thickness at Date 3 (cm)       Lat       Lon  \\\n",
       "0                       0.0                        0  26.02238 -81.73427   \n",
       "1                       NaN                        0  26.02240 -81.73423   \n",
       "2                       NaN                        0  26.02230 -81.73427   \n",
       "3                       NaN                      NaN  26.02232 -81.73418   \n",
       "4                       0.0                        0  26.02202 -81.73415   \n",
       "\n",
       "   water_lat  water_lon Notes Unnamed: 13  \n",
       "0  26.021769 -81.734467   NaN         NaN  \n",
       "1  26.021769 -81.734467   NaN         NaN  \n",
       "2  26.021769 -81.734467   NaN         NaN  \n",
       "3  26.021769 -81.734467   NaN         NaN  \n",
       "4  26.021769 -81.734467   NaN         NaN  "
      ]
     },
     "execution_count": 1,
     "metadata": {},
     "output_type": "execute_result"
    }
   ],
   "source": [
    "import os\n",
    "import pandas as pd\n",
    "%matplotlib inline\n",
    "import numpy as np\n",
    "import matplotlib.pyplot as plt\n",
    "import hashlib\n",
    "import sklearn as sk\n",
    "import os\n",
    "import time\n",
    "import datetime\n",
    "import math\n",
    "\n",
    "\n",
    "mud = pd.read_csv(r'/Users/lszczyrba/Project_3.6.3/HelloWorld/Irma_Sediment/IrmaMudThicknessDistances.csv', header = [0])\n",
    "mud.info()\n",
    "mud.head()"
   ]
  },
  {
   "cell_type": "code",
   "execution_count": 2,
   "metadata": {},
   "outputs": [],
   "source": [
    "def haversine(lon1, lat1, lon2, lat2):\n",
    "    lon1, lat1, lon2, lat2 = map(math.radians, [lon1, lat1, lon2, lat2])\n",
    "    dlon = lon2 - lon1\n",
    "    dlat = lat2 - lat1\n",
    "    a = math.sin(dlat/2)**2 + math.cos(lat1) * math.cos(lat2) * math.sin(dlon/2)**2\n",
    "    c = 2 * math.asin(math.sqrt(a))\n",
    "    km = 6367 * c\n",
    "    return (km * 1000)"
   ]
  },
  {
   "cell_type": "code",
   "execution_count": 3,
   "metadata": {},
   "outputs": [],
   "source": [
    "site_lat = mud['Lat']\n",
    "site_lon = mud['Lon']\n",
    "ocean_lat = mud['water_lat']\n",
    "ocean_lon = mud['water_lon']"
   ]
  },
  {
   "cell_type": "code",
   "execution_count": 4,
   "metadata": {},
   "outputs": [],
   "source": [
    "distance = []\n",
    "for i in range(len(site_lat)):\n",
    "    dist = haversine(site_lon[i], site_lat[i], ocean_lon[i], ocean_lat[i])\n",
    "    distance.append(dist)\n",
    "dist = pd.DataFrame({'Distance': distance})"
   ]
  },
  {
   "cell_type": "code",
   "execution_count": 6,
   "metadata": {},
   "outputs": [
    {
     "name": "stdout",
     "output_type": "stream",
     "text": [
      "<class 'pandas.core.frame.DataFrame'>\n",
      "RangeIndex: 130 entries, 0 to 129\n",
      "Data columns (total 14 columns):\n",
      "Region                      127 non-null object\n",
      "Site                        127 non-null object\n",
      "Station                     127 non-null object\n",
      "Date 1                      118 non-null object\n",
      "Date 2                      107 non-null object\n",
      "Thickness at Date 1 (cm)    117 non-null object\n",
      "Thickness at Date 2 (cm)    92 non-null float64\n",
      "Thickness at Date 3 (cm)    120 non-null object\n",
      "Lat                         101 non-null float64\n",
      "Lon                         101 non-null float64\n",
      "water_lat                   101 non-null float64\n",
      "water_lon                   101 non-null float64\n",
      "Notes                       14 non-null object\n",
      "Unnamed: 13                 1 non-null object\n",
      "dtypes: float64(5), object(9)\n",
      "memory usage: 14.3+ KB\n"
     ]
    },
    {
     "data": {
      "text/plain": [
       "'BW2'"
      ]
     },
     "execution_count": 6,
     "metadata": {},
     "output_type": "execute_result"
    }
   ],
   "source": [
    "mud.info()\n",
    "mud.head()\n",
    "mud['Site'][12]"
   ]
  },
  {
   "cell_type": "code",
   "execution_count": 8,
   "metadata": {},
   "outputs": [
    {
     "ename": "ModuleNotFoundError",
     "evalue": "No module named 'mud_machine_learning'",
     "output_type": "error",
     "traceback": [
      "\u001b[0;31m---------------------------------------------------------------------------\u001b[0m",
      "\u001b[0;31mModuleNotFoundError\u001b[0m                       Traceback (most recent call last)",
      "\u001b[0;32m<ipython-input-8-186de7858b5e>\u001b[0m in \u001b[0;36m<module>\u001b[0;34m()\u001b[0m\n\u001b[0;32m----> 1\u001b[0;31m \u001b[0;32mfrom\u001b[0m \u001b[0mmud_machine_learning\u001b[0m \u001b[0;32mimport\u001b[0m \u001b[0mclean_dataframe\u001b[0m \u001b[0;32mas\u001b[0m \u001b[0mcdf\u001b[0m\u001b[0;34m\u001b[0m\u001b[0m\n\u001b[0m\u001b[1;32m      2\u001b[0m \u001b[0;32mfrom\u001b[0m \u001b[0mmud_machine_learning\u001b[0m \u001b[0;32mimport\u001b[0m \u001b[0mcategorize_text\u001b[0m\u001b[0;34m\u001b[0m\u001b[0m\n\u001b[1;32m      3\u001b[0m \u001b[0mmud1\u001b[0m \u001b[0;34m=\u001b[0m \u001b[0mmud\u001b[0m\u001b[0;34m\u001b[0m\u001b[0m\n\u001b[1;32m      4\u001b[0m \u001b[0mtrain\u001b[0m\u001b[0;34m,\u001b[0m \u001b[0mtest\u001b[0m \u001b[0;34m=\u001b[0m \u001b[0mcdf\u001b[0m\u001b[0;34m(\u001b[0m\u001b[0mmud\u001b[0m\u001b[0;34m,\u001b[0m \u001b[0mmud1\u001b[0m\u001b[0;34m)\u001b[0m\u001b[0;34m\u001b[0m\u001b[0m\n\u001b[1;32m      5\u001b[0m \u001b[0mtrain\u001b[0m\u001b[0;34m.\u001b[0m\u001b[0minfo\u001b[0m\u001b[0;34m(\u001b[0m\u001b[0;34m)\u001b[0m\u001b[0;34m\u001b[0m\u001b[0m\n",
      "\u001b[0;31mModuleNotFoundError\u001b[0m: No module named 'mud_machine_learning'"
     ]
    }
   ],
   "source": []
  },
  {
   "cell_type": "markdown",
   "metadata": {},
   "source": [
    "# Rename the columns!!!\n"
   ]
  },
  {
   "cell_type": "code",
   "execution_count": null,
   "metadata": {},
   "outputs": [],
   "source": []
  },
  {
   "cell_type": "code",
   "execution_count": null,
   "metadata": {},
   "outputs": [],
   "source": [
    "df.insert(0,'ID', range(0,len(df)))\n",
    "df\n",
    "\n",
    "df.set_index('ID')\n",
    "\n",
    "df['Date1'] = pd.to_datetime(df['Date1'])\n",
    "df['Date2'] = pd.to_datetime(df['Date2'])\n",
    "df['Date3'] = pd.to_datetime(df['Date3'])\n",
    "print(type(df['Date1'][1]))\n",
    "df.head()\n",
    "\n",
    "no_null = df.dropna()\n",
    "df = no_null\n",
    "\n",
    "df = df[df['ThicknessD1cm'] != 0]\n",
    "\n",
    "df = df[df.Notes == 1]\n",
    "df = df.drop(['Notes'], axis=1)\n",
    "\n",
    "df.ThicknessD3cm.replace([20], [1], inplace=True)\n",
    "df.info()\n",
    "df.head()"
   ]
  }
 ],
 "metadata": {
  "kernelspec": {
   "display_name": "Python 3",
   "language": "python",
   "name": "python3"
  },
  "language_info": {
   "codemirror_mode": {
    "name": "ipython",
    "version": 3
   },
   "file_extension": ".py",
   "mimetype": "text/x-python",
   "name": "python",
   "nbconvert_exporter": "python",
   "pygments_lexer": "ipython3",
   "version": "3.6.5"
  }
 },
 "nbformat": 4,
 "nbformat_minor": 2
}
